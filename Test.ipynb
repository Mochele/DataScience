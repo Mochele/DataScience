{
  "nbformat": 4,
  "nbformat_minor": 0,
  "metadata": {
    "colab": {
      "provenance": [],
      "authorship_tag": "ABX9TyOsy5X45tcVKJtfzf+GDVQP",
      "include_colab_link": true
    },
    "kernelspec": {
      "name": "python3",
      "display_name": "Python 3"
    },
    "language_info": {
      "name": "python"
    }
  },
  "cells": [
    {
      "cell_type": "markdown",
      "metadata": {
        "id": "view-in-github",
        "colab_type": "text"
      },
      "source": [
        "<a href=\"https://colab.research.google.com/github/Mochele/DataScience/blob/main/Test.ipynb\" target=\"_parent\"><img src=\"https://colab.research.google.com/assets/colab-badge.svg\" alt=\"Open In Colab\"/></a>"
      ]
    },
    {
      "cell_type": "code",
      "execution_count": 1,
      "metadata": {
        "id": "s6LZ3LyP7A59"
      },
      "outputs": [],
      "source": [
        "import pandas as pd\n",
        "import numpy as np"
      ]
    },
    {
      "cell_type": "code",
      "source": [
        "# The function takes in teh arguments of Total Loand and Recovery rate\n",
        "# Utilises dataframes to easily iterate and loop over rows\n",
        "\n",
        "def Compensation(Total_Loans, Actual_Recovery_Rate):\n",
        "\n",
        "    Pay_table=pd.DataFrame({\"Recovery_Rate\":list(np.array(range(75, 105, 5))/100),\n",
        "                             \"Percentage_Bracket\":list(np.array(range(10, 40, 5))/100)})\n",
        "\n",
        "    Upper = round(Actual_Recovery_Rate, 1)\n",
        "    Lower = round(Actual_Recovery_Rate, 2)\n",
        "    difference = round(Upper - Lower, 2)\n",
        "\n",
        "    if difference < 0.05:\n",
        "        Actual_Recovery_Rate_1 = round(Actual_Recovery_Rate, 1)\n",
        "\n",
        "    if difference == 0:\n",
        "        Actual_Recovery_Rate_1 = Actual_Recovery_Rate\n",
        "\n",
        "    else:\n",
        "        Actual_Recovery_Rate_1 = round(round(Actual_Recovery_Rate, 2) + difference , 2)\n",
        "\n",
        "    Percent_Bracket = 0.0\n",
        "    for index, row in Pay_table.iterrows():\n",
        "        if row[\"Recovery_Rate\"] == Actual_Recovery_Rate_1:\n",
        "            Percent_Bracket = row[\"Percentage_Bracket\"]\n",
        "\n",
        "    Basic_Pay = 3300\n",
        "    Lower_Bound = 70000\n",
        "    Basic_LoanIncrease = 10000\n",
        "    Basic_PercentageIncrease = 0.04\n",
        "\n",
        "\n",
        "    Compensation = Basic_Pay*((\n",
        "        ((Total_Loans-Lower_Bound)/Basic_LoanIncrease)*Basic_PercentageIncrease) + Percent_Bracket)\n",
        "\n",
        "    return round(Compensation, 1)"
      ],
      "metadata": {
        "id": "3sgvhwQV7TKk"
      },
      "execution_count": 2,
      "outputs": []
    },
    {
      "cell_type": "code",
      "source": [
        "\n",
        "  # Change the arguments of Total_Loans and Actual_Recovery_Rate to calculate the compensation\n",
        "\n",
        "   Compensation(85000, 0.83)"
      ],
      "metadata": {
        "colab": {
          "base_uri": "https://localhost:8080/"
        },
        "id": "UBkFQwLc1JS7",
        "outputId": "7e619659-4ea0-49b2-8611-81f0d0f009e1"
      },
      "execution_count": 7,
      "outputs": [
        {
          "output_type": "execute_result",
          "data": {
            "text/plain": [
              "693.0"
            ]
          },
          "metadata": {},
          "execution_count": 7
        }
      ]
    }
  ]
}